{
 "cells": [
  {
   "cell_type": "code",
   "execution_count": null,
   "id": "0e98e9a9-bee4-47f8-9d5b-4996a797df3d",
   "metadata": {},
   "outputs": [],
   "source": [
    "import os\n",
    "import numpy as np\n",
    "\n",
    "import matplotlib.pyplot as plt\n",
    "import matplotlib\n",
    "matplotlib.rcParams['mathtext.fontset'] = 'cm'\n",
    "matplotlib.rcParams['font.family'] = 'STIXGeneral'\n",
    "import plotly.graph_objects as go\n",
    "\n",
    "\n",
    "import pandas as pd\n",
    "from scipy import odr\n",
    "from scipy.io import readsav\n",
    "from scipy.interpolate import UnivariateSpline\n",
    "\n",
    "%run ../../Functions.ipynb"
   ]
  },
  {
   "cell_type": "markdown",
   "id": "8dc61760-de67-450b-b34e-c9b061dff61d",
   "metadata": {},
   "source": [
    "Coordinates from new TP of 304 images with STA,SDO and STB"
   ]
  },
  {
   "cell_type": "code",
   "execution_count": null,
   "id": "53c61b74-cd09-49ab-a53a-077387761dba",
   "metadata": {},
   "outputs": [],
   "source": [
    "#Triangulation coordinates\n",
    "tn  = pd.read_csv('scc3_304.csv')\n",
    "\n",
    "#Central coordinates of the triangulation\n",
    "Tn = tn.groupby(['T']).agg({'lonC':['median','std'], 'lat':['median','std'], 'R':['median','std']})\n",
    "Tn.columns =['lonC','eLon', 'lat','eLat', 'R','eR']\n",
    "Tn.reset_index(inplace=True)\n",
    "Tn.lonC = np.mod(Tn.lonC,360)\n",
    "\n",
    "xn,yn,zn, exn, eyn, ezn = Sph2CartE(Tn['R'],90-Tn['lat'],Tn['lonC'],Tn['eR'],Tn['eLat'],Tn['eLon'])  #Time: T304.T\n",
    "exn = np.nan_to_num(exn)\n",
    "eyn = np.nan_to_num(eyn)\n",
    "ezn = np.nan_to_num(ezn)\n",
    "tn304 = Tn['T']"
   ]
  },
  {
   "cell_type": "markdown",
   "id": "d9663084-f329-47f3-9d49-2f61b093fd23",
   "metadata": {},
   "source": [
    "Coordinates from old TP of 304 images with STA and SDO"
   ]
  },
  {
   "cell_type": "code",
   "execution_count": null,
   "id": "839840c2-8336-40b3-9438-39e41ae50084",
   "metadata": {},
   "outputs": [],
   "source": [
    "to = pd.read_csv('scc2_304.csv')\n",
    "to = to.sort_values(by=['T'])\n",
    "To = to.groupby(['T']).agg({'lonC':['median','std'], 'lat':['median','std'], 'R':['median','std']})\n",
    "To.columns =['lonC','eLon', 'lat','eLat', 'R','eR']\n",
    "To.reset_index(inplace=True)\n",
    "To.lonC = np.mod(To.lonC,360)\n",
    "\n",
    "xo,yo,zo, exo, eyo, ezo = Sph2CartE(To['R'],90-To['lat'],To['lonC'],To['eR'],To['eLat'],To['eLon'])  #Time: T304.T\n",
    "exo = np.nan_to_num(exo)\n",
    "eyo = np.nan_to_num(eyo)\n",
    "ezo = np.nan_to_num(ezo)\n",
    "to304 = To['T']"
   ]
  },
  {
   "cell_type": "markdown",
   "id": "111f9125-8240-43e3-bfd4-90ccd2188a77",
   "metadata": {},
   "source": [
    "New GCS with non-radial tilt"
   ]
  },
  {
   "cell_type": "code",
   "execution_count": null,
   "id": "663bedb5-0d58-4afe-ad7b-0316ccde4b22",
   "metadata": {},
   "outputs": [],
   "source": [
    "gcs  = pd.read_csv('gcs_param.csv')\n",
    "n_gcs = len(gcs['T'])\n",
    "gcc = np.ones([n_gcs,3,1])\n",
    "\n",
    "for i in range(n_gcs):\n",
    "    gcc[i] = RotCen(gcs['R'][i],gcs['k_fac'][i],gcs['lat'][i],gcs['lonC'][i],\n",
    "                            gcs['Tilt'][i],gcs['Ne_tilt'][i])\n",
    "\n",
    "gcc_R, gcc_lat, gcc_lon = Cart2Sph(gcc[:,0,0],gcc[:,1,0],gcc[:,2,0])\n",
    "lst = np.array([[2.5],[gcc_lat.mean()],[gcc_lon.mean()]])\n",
    "lst_c = Sph2Cart(lst[0],90-lst[1],lst[2])\n",
    "\n",
    "df_gcs = pd.DataFrame({\n",
    "    'T': gcs['T'],\n",
    "    'X': gcc[:,0,0],\n",
    "    'Y': gcc[:,1,0],\n",
    "    'Z': gcc[:,2,0],\n",
    "    'R':      gcc_R, \n",
    "    'lat':  gcc_lat, \n",
    "    'lonC': gcc_lon\n",
    "})"
   ]
  },
  {
   "cell_type": "code",
   "execution_count": null,
   "id": "4c9ad95b-b6d2-44fd-b433-b3e0e528735f",
   "metadata": {},
   "outputs": [],
   "source": [
    "full = pd.concat([tn[['T','X','Y', 'Z']], df_gcs[['T','X','Y', 'Z']]], axis=0,ignore_index=True)"
   ]
  },
  {
   "cell_type": "markdown",
   "id": "cae65392-c47d-477b-9d1f-dd8a8f1139ee",
   "metadata": {},
   "source": [
    "Old GCS parameters from radial model"
   ]
  },
  {
   "cell_type": "code",
   "execution_count": null,
   "id": "dd6c816e-4f9c-4cc5-a118-39c7f8d82778",
   "metadata": {},
   "outputs": [],
   "source": [
    "gcs_o  = pd.read_csv('gcs_old.csv',skip_blank_lines=False)\n",
    "gcs_o['X'] = gcs_o['R']*np.sin((90.-gcs_o['lat'])*np.pi/180)*np.cos(gcs_o['lonC']*np.pi/180)\n",
    "gcs_o['Y'] = gcs_o['R']*np.sin((90.-gcs_o['lat'])*np.pi/180)*np.sin(gcs_o['lonC']*np.pi/180)\n",
    "gcs_o['Z'] = gcs_o['R']*np.cos((90.-gcs_o['lat'])*np.pi/180)"
   ]
  },
  {
   "cell_type": "code",
   "execution_count": null,
   "id": "b5684620-97ae-472d-8641-b006b7783041",
   "metadata": {},
   "outputs": [],
   "source": [
    "full_o = pd.concat([to[['T','X','Y', 'Z']], gcs_o[['T','X','Y', 'Z']]], axis=0,ignore_index=True)\n",
    "full_o = full_o.sort_values(by=['T'])\n",
    "full_o =full_o[:-1]"
   ]
  },
  {
   "cell_type": "markdown",
   "id": "3431d4c6-97f9-47e5-9e8a-ef81328eb5e4",
   "metadata": {},
   "source": [
    "Magnetic field lines surrounding the eruption"
   ]
  },
  {
   "cell_type": "code",
   "execution_count": null,
   "id": "045b5dae-8465-459f-b7d5-f6581da01d4e",
   "metadata": {},
   "outputs": [],
   "source": [
    "ln  = pd.read_csv( 'openlinesn.csv',header=None,names=['R', 'lat', 'lonC'],sep='\\s+',skip_blank_lines=False)\n",
    "lp  = pd.read_csv( 'openlinesn0.csv',header=None,names=['R', 'lat', 'lonC'],sep='\\s+',skip_blank_lines=False)\n",
    "lc  = pd.read_csv('closedlines.csv',header=None,names=['R', 'lat', 'lonC'],sep='\\s+',skip_blank_lines=False)\n",
    "\n",
    "id0 = np.where((ln.R<1))[0]\n",
    "ln['id'] = np.nan\n",
    "ln.loc[id0, 'id'] = id0\n",
    "ln['id'] = ln['id'].ffill()\n",
    "\n",
    "id1 = np.where((lc.R<1))[0]\n",
    "lc['id'] = np.nan\n",
    "lc.loc[id1, 'id'] = id1\n",
    "inm=lc['id'][::-1].ffill()\n",
    "lc['id'] = inm[::-1]\n",
    "\n",
    "xln,yln,zln = Sph2Cart(ln.R,ln.lat,ln.lonC)\n",
    "xlc,ylc,zlc = Sph2Cart(lc.R,lc.lat,lc.lonC)\n",
    "xlp,ylp,zlp = Sph2Cart(lp.R,lp.lat,lp.lonC)"
   ]
  },
  {
   "cell_type": "markdown",
   "id": "a73763c6-965c-42a6-86b2-51af1afbb329",
   "metadata": {},
   "source": [
    "Source region position from Sieyra et al. (2020)"
   ]
  },
  {
   "cell_type": "code",
   "execution_count": null,
   "id": "37821880-7aee-4d58-afa0-fd5d035bfc53",
   "metadata": {},
   "outputs": [],
   "source": [
    "er = np.array([[1.01,90-29,110],[2.5,90-43,138]])\n",
    "xe,ye,ze = Sph2Cart(er[:,0],er[:,1],er[:,2])"
   ]
  },
  {
   "cell_type": "markdown",
   "id": "c2e53aad-4680-44a5-818b-0153d585a5b1",
   "metadata": {},
   "source": [
    "Spline fitting the old evolution"
   ]
  },
  {
   "cell_type": "code",
   "execution_count": null,
   "id": "611d8323-6e7c-404f-86cb-f9b8e42a6cb0",
   "metadata": {},
   "outputs": [],
   "source": [
    "model_xo = UnivariateSpline(full_o['T']-full_o['T'].min(),full_o['X'])\n",
    "model_yo = UnivariateSpline(full_o['T']-full_o['T'].min(),full_o['Y'])\n",
    "model_zo = UnivariateSpline(full_o['T']-full_o['T'].min(),full_o['Z'])\n",
    "\n",
    "to_fit = np.linspace(0, full_o['T'].max()-full_o['T'].min(), len(full_o['T']))\n",
    "xo_fit = model_xo(to_fit)\n",
    "yo_fit = model_yo(to_fit)\n",
    "zo_fit = model_zo(to_fit)\n",
    "\n",
    "ro_fit,tho_fit,pho_fit = Cart2Sph(xo_fit, yo_fit, zo_fit)"
   ]
  },
  {
   "cell_type": "markdown",
   "id": "9c07bacc-7a1e-4d68-b0b1-2466d1710562",
   "metadata": {},
   "source": [
    "Spline fitting the new evolution"
   ]
  },
  {
   "cell_type": "code",
   "execution_count": null,
   "id": "0aeb6f4e-e323-44aa-808f-7fd848b5f1b3",
   "metadata": {},
   "outputs": [],
   "source": [
    "model_xn = UnivariateSpline(full['T']-full['T'].min(),full['X'])\n",
    "model_yn = UnivariateSpline(full['T']-full['T'].min(),full['Y'])\n",
    "model_zn = UnivariateSpline(full['T']-full['T'].min(),full['Z'])\n",
    "\n",
    "tn_fit = np.linspace(0, full['T'].max()-full['T'].min(), len(full['T']))\n",
    "xn_fit = model_xn(tn_fit)\n",
    "yn_fit = model_yn(tn_fit)\n",
    "zn_fit = model_zn(tn_fit)\n",
    "\n",
    "rn_fit,thn_fit,phn_fit = Cart2Sph(xn_fit, yn_fit, zn_fit)"
   ]
  },
  {
   "cell_type": "markdown",
   "id": "3c5e44ab-83ac-4052-b169-1db4eee3a58f",
   "metadata": {},
   "source": [
    "Evolution up to $2.5\\,R_\\odot$"
   ]
  },
  {
   "cell_type": "code",
   "execution_count": null,
   "id": "5eccbad1-dcca-4775-94a5-db59e3cfb96e",
   "metadata": {},
   "outputs": [],
   "source": [
    "ss =np.where(ro_fit<=2.6)[0]\n",
    "xo_end = xo_fit[ss]\n",
    "yo_end = yo_fit[ss]\n",
    "zo_end = zo_fit[ss]"
   ]
  },
  {
   "cell_type": "code",
   "execution_count": null,
   "id": "1762a66c-4cf9-4a9c-b22f-1825049b1457",
   "metadata": {},
   "outputs": [],
   "source": [
    "ss =np.where(rn_fit<=2.6)[0]\n",
    "xn_end = xn_fit[ss]\n",
    "yn_end = yn_fit[ss]\n",
    "zn_end = zn_fit[ss]"
   ]
  },
  {
   "cell_type": "markdown",
   "id": "b3b91a8d-8c39-4089-8730-b724f1906b90",
   "metadata": {},
   "source": [
    "3D deflected angle $\\psi$"
   ]
  },
  {
   "cell_type": "code",
   "execution_count": null,
   "id": "efcd6cea-c9c1-4dea-a92d-73cc8f199fbb",
   "metadata": {},
   "outputs": [],
   "source": [
    "th1  = np.radians(thn_fit[0]); ph1= np.radians(phn_fit[0]); th0 = np.radians(tho_fit[0]); ph0 = np.radians(pho_fit[0])\n",
    "psi_n = np.arccos(np.sin(th1)*np.sin(np.radians(thn_fit))+np.cos(th1)*np.cos(np.radians(thn_fit))*np.cos(np.radians(phn_fit)-ph1))\n",
    "psi_o = np.arccos(np.sin(th0)*np.sin(np.radians(tho_fit))+np.cos(th0)*np.cos(np.radians(tho_fit))*np.cos(np.radians(pho_fit)-ph0))\n",
    "print(np.degrees(psi_n.max()),np.degrees(psi_o.max()))"
   ]
  },
  {
   "cell_type": "markdown",
   "id": "aa6d0bd4-72c3-4369-8a5e-77d7465258d3",
   "metadata": {},
   "source": [
    "### Figure 2"
   ]
  },
  {
   "cell_type": "code",
   "execution_count": null,
   "id": "c27633e4-a0ae-473d-8028-76d2fbc71ff7",
   "metadata": {},
   "outputs": [],
   "source": [
    "fig, axs = plt.subplots(2, 2,figsize=(9,4),dpi=120,sharex=True)\n",
    "\n",
    "axs[0, 0].set_ylabel('Latitude [$^\\circ$]')\n",
    "axs[0, 0].scatter(To.R,To.lat, c=To['T'],marker='p',cmap='rainbow',zorder=3,label='old TP')\n",
    "axs[0, 0].scatter(gcs_o['R'],gcs_o['lat'], c=gcs_o['T'],marker='s',cmap='magma',vmin=gcs['T'].min(),vmax=gcs['T'].max(),label='old GCS')\n",
    "axs[0, 0].plot(ro_fit,tho_fit,c='seagreen',zorder=2,label='old fit')\n",
    "axs[0, 0].plot(rn_fit,thn_fit,'--',c='mediumvioletred',alpha=0.3,zorder=1,label='new fit')\n",
    "\n",
    "axs[0, 0].legend()\n",
    "\n",
    "axs[0, 1].set_ylabel('Carrington longitude [$^\\circ$]')\n",
    "ima=axs[0, 1].scatter(To.R,To.lonC, c=To['T'],marker='p',cmap='rainbow',zorder=3)\n",
    "imb=axs[0, 1].scatter(gcs_o['R'],gcs_o['lonC'], c=gcs_o['T'],marker='s',cmap='magma',vmin=gcs['T'].min(),vmax=gcs['T'].max())\n",
    "axs[0, 1].plot(ro_fit,pho_fit,c='seagreen',zorder=2)\n",
    "axs[0, 1].plot(rn_fit,phn_fit,'--',c='mediumvioletred',alpha=0.3,zorder=1)\n",
    "\n",
    "\n",
    "axs[1, 0].set_ylabel('Latitude [$^\\circ$]')\n",
    "axs[1, 0].set_xlabel('Height [$R_\\odot$]')\n",
    "axs[1, 0].scatter(Tn.R,Tn.lat, c=tn304,cmap='rainbow',vmin=to304.min(),vmax=to304.max(),zorder=3,label='new TP')\n",
    "axs[1, 0].scatter(gcc_R,gcc_lat, c=gcs['T'],marker='D',cmap='magma',label='new GCS')\n",
    "axs[1, 0].plot(rn_fit,thn_fit,c='mediumvioletred',zorder=2,label='new fit')\n",
    "axs[1, 0].plot(ro_fit,tho_fit,'--',c='seagreen',alpha=0.5,zorder=1,label='old fit')\n",
    "axs[1, 0].legend()\n",
    "\n",
    "axs[1, 1].set_ylabel('Carrington longitude [$^\\circ$]')\n",
    "axs[1, 1].set_xlabel('Height [$R_\\odot$]')\n",
    "axs[1, 1].scatter(Tn.R,Tn.lonC, c=tn304,cmap='rainbow',vmin=to304.min(),vmax=to304.max(),zorder=3)\n",
    "axs[1, 1].scatter(gcc_R,gcc_lon, c=gcs['T'],marker='D',cmap='magma')\n",
    "axs[1, 1].plot(rn_fit,phn_fit,c='mediumvioletred',zorder=2)\n",
    "axs[1, 1].plot(ro_fit,pho_fit,'--',c='seagreen',alpha=0.5,zorder=1)\n",
    "\n",
    "\n",
    "\n",
    "\n",
    "\n",
    "plt.tight_layout(w_pad=4,h_pad=1.5 )\n",
    "# rendering colorbar\n",
    "plt.colorbar(ima, ax=axs.ravel().tolist())\n",
    "plt.colorbar(imb, ax=axs.ravel().tolist())\n",
    "plt.show()"
   ]
  },
  {
   "cell_type": "markdown",
   "id": "f094b6da-7d4f-4154-9012-dd147a76b09e",
   "metadata": {},
   "source": [
    "# 3D plots"
   ]
  },
  {
   "cell_type": "code",
   "execution_count": null,
   "id": "454fbb91-8cd2-4e6a-954c-e445ef9d360c",
   "metadata": {},
   "outputs": [],
   "source": [
    "#Sphere 1 solar radio coordinates\n",
    "w, t = np.mgrid[0:2*np.pi:50*2j, 0:np.pi:50*1j]\n",
    "Xs = np.cos(w)*np.sin(t)\n",
    "Ys = np.sin(w)*np.sin(t)\n",
    "Zs = np.cos(t)\n",
    "# Ecuator and proyected plane of trajectory\n",
    "xEc, yEc, zEc    = Sph2Cart(np.ones(100),90.*np.ones(100),np.linspace(0, 360, 100))\n",
    "\n",
    "#Colorscale rainbow\n",
    "rbow_cmap = plt.cm.rainbow(np.linspace(0.,1,len(tn304)))\n",
    "rbow_plt = []\n",
    "for k in range(len(tn304)):\n",
    "    rbow_plt.append([k/(len(tn304)-1),'rgb'+str((int(rbow_cmap[k,0]*255), int(rbow_cmap[k,1]*255), int(rbow_cmap[k,2]*255)))])\n"
   ]
  },
  {
   "cell_type": "code",
   "execution_count": null,
   "id": "0de66977-2c9a-439a-a6aa-e5407e2e52f4",
   "metadata": {},
   "outputs": [],
   "source": [
    "config = {\n",
    "  'toImageButtonOptions': {\n",
    "    'format': 'png', # one of png, svg, jpeg, webp\n",
    "    'filename': 'custom_image',\n",
    "    'height': 800,\n",
    "    'width': 800,\n",
    "    'scale':3 # Multiply title/legend/axis/canvas sizes by this factor\n",
    "  }\n",
    "}\n",
    "\n",
    "\n",
    "data1 =[ # Sphere surface Ecuator and trajectory great circle\n",
    "    go.Surface(x=Xs, y=Ys, z=Zs,surfacecolor=Xs**2 + Ys**2 + Zs**2,colorscale='gray',opacity=1., showscale=False),\n",
    "\n",
    "    go.Scatter3d( x=xEc, y=yEc, z=zEc, mode='lines', line=dict(color='teal',width=4),showlegend=False),\n",
    "    \n",
    "    go.Scatter3d( x=xe, y=ye, z=ze, mode='markers+lines',showlegend=False),\n",
    "    go.Scatter3d( x=xn, y=yn, z=zn,mode='markers',marker=dict(size=7,color=tn304,colorscale=rbow_plt,\n",
    "                                    showscale=True,colorbar_title='Time [UT]',\n",
    "                                    colorbar_tickfont_family='Times New Roman',\n",
    "                                    colorbar_tickfont_size=20 ,colorbar_title_side='top',\n",
    "                                    colorbar_tickmode='array'),showlegend=False),\n",
    "    go.Scatter3d( x=gcc[:3,0,0], y=gcc[:3,1,0], z=gcc[:3,2,0],mode='markers',marker=dict(size=7,symbol='diamond',\n",
    "                                    color=gcs['T'],colorscale='magma',\n",
    "                                    showscale=False),showlegend=False),\n",
    "    go.Scatter3d( x=xn_end, y=yn_end, z=zn_end, mode='lines', line=dict(color='purple',width=2),showlegend=False),\n",
    "    \n",
    "    # Magnetic field lines\n",
    "    go.Scatter3d( x=xln, y=yln, z=zln, mode='lines', line=dict(color='mediumblue',width=1),showlegend=False),\n",
    "    go.Scatter3d( x=xlc, y=ylc, z=zlc, mode='lines', line=dict(color='white',width=1),showlegend=False),\n",
    "    go.Scatter3d( x=xlp, y=ylp, z=zlp, mode='lines', line=dict(color='grey',width=1),showlegend=False),\n",
    "    \n",
    "    ]\n",
    "fig = go.Figure(data1,go.Layout(autosize=False,width=820,height=800))\n",
    "fig.update_scenes(xaxis_visible=False, yaxis_visible=False,zaxis_visible=False,bgcolor='lightgrey',aspectmode='data' )\n",
    "fig.show(config=config)"
   ]
  },
  {
   "cell_type": "markdown",
   "id": "6394bc75-4cd8-45be-870d-3db3593c2301",
   "metadata": {},
   "source": [
    "## Topology guided path"
   ]
  },
  {
   "cell_type": "code",
   "execution_count": null,
   "id": "8b9ad8dc-3428-4e5a-8808-9cc81932b0db",
   "metadata": {},
   "outputs": [],
   "source": [
    "# Overlaying arcade of the source region at (110,29)\n",
    "oa = np.where((( lc.lat  >= 89 - 29 ) & ( lc.lat  <= 91 - 29 ))   &   \n",
    "             ( ( lc.lonC >= 110 - 1    ) & ( lc.lonC <=  110 + 1   )) & \n",
    "               ( lc.R    >= 1.03         ))[0]\n",
    "\n",
    "id_oa = np.unique(lc.iloc[oa].id)\n",
    "new = np.array([lc[lc.id == id].iloc[np.argmax(lc[lc.id == id].R)][:3] for id in id_oa])\n",
    "\n",
    "d_tp = np.array([[1.02, 61, 110], new[np.argmin(new[:, 0])]])\n",
    "\n",
    "\n",
    "k = 2\n",
    "while k < 100:\n",
    "        # Overlay check for new conditions\n",
    "    oa = np.where(\n",
    "            ((lc.lat  >= d_tp[-1, 1] - 1) & (lc.lat  <= d_tp[-1, 1] + 1)) &\n",
    "            ((lc.lonC >= d_tp[-1, 2] - 1) & (lc.lonC <= d_tp[-1, 2] + 1)) &\n",
    "            ( lc.R    >  d_tp[-1, 0]))[0]\n",
    "\n",
    "    if len(oa) == 0:\n",
    "        print('Open at: ', k)\n",
    "        ob = np.where(\n",
    "                ((ln.lat  >= d_tp[-1, 1] - 1) & (ln.lat  <= d_tp[-1, 1] + 1)) &\n",
    "                ((ln.lonC >= d_tp[-1, 2] - 1) & (ln.lonC <= d_tp[-1, 2] + 1)) &\n",
    "                ( ln.R > d_tp[-1, 0]))[0]\n",
    "\n",
    "        id_ob = np.unique(ln.iloc[ob].id)\n",
    "        print('Final crossing: ', len(id_ob))\n",
    "        \n",
    "        if len(id_ob) == 0: break\n",
    "        ch =ln[ln.id ==id_ob[0]]\n",
    "        ch2 = ch.iloc[np.where(ch.R>1.4)[0]]\n",
    "        new = np.array([ch2['R'],ch2['lat'],ch2['lonC']]).T\n",
    "        d_tp = np.append(d_tp, new, axis=0)\n",
    "\n",
    "        break\n",
    "    id_oa = np.unique(lc.iloc[oa].id)\n",
    "    new = np.array([lc[lc.id == id].iloc[np.argmax(lc[lc.id == id].R)][:3] for id in id_oa])\n",
    "    d_tp = np.append(d_tp, [new[np.argmin(new[:, 0])]], axis=0)\n",
    "    k += 1\n"
   ]
  },
  {
   "cell_type": "markdown",
   "id": "6a5c10ba-4590-4176-aa50-f9fc849798e9",
   "metadata": {},
   "source": [
    "## Magnetic gradient path"
   ]
  },
  {
   "cell_type": "code",
   "execution_count": null,
   "id": "fabca1ea-8309-47fb-bfa3-23a910d857d3",
   "metadata": {},
   "outputs": [],
   "source": [
    "coordR  = readsav('coordB.sav')['rix']\n",
    "coordTh = readsav('coordB.sav')['theta']\n",
    "coordPh = readsav('coordB.sav')['phi']\n",
    "magr    = readsav('magvB.sav')['br']\n",
    "magth   = readsav('magvB.sav')['bth']\n",
    "magph   = readsav('magvB.sav')['bph']"
   ]
  },
  {
   "cell_type": "code",
   "execution_count": null,
   "id": "22da0957-1a50-4ace-8ed5-e7da8821a58c",
   "metadata": {},
   "outputs": [],
   "source": [
    "iTh = np.where((np.degrees(coordTh)<=70) & (np.degrees(coordTh)>=20))[0]\n",
    "iPh = np.where((np.degrees(coordPh)<=200) & (np.degrees(coordPh)>=100))[0]\n",
    "\n",
    "th2gr,rgr,ph2gr = np.meshgrid(coordTh[iTh], coordR, coordPh[iPh])\n",
    "thgr = 90-np.degrees(th2gr)\n",
    "phgr = np.degrees(ph2gr)\n",
    "magri = magr[:,:,iPh][:,iTh,:]\n",
    "magthi= magth[:,:,iPh][:,iTh,:]\n",
    "magphi= magph[:,:,iPh][:,iTh,:]\n",
    "B2 = magri**2+magthi**2+magphi**2\n",
    "magB = np.sqrt(B2)\n"
   ]
  },
  {
   "cell_type": "code",
   "execution_count": null,
   "id": "59401816-9e0c-47d6-937d-3460ba4ba49e",
   "metadata": {
    "scrolled": true
   },
   "outputs": [],
   "source": [
    "idr = np.argmin(np.abs(rgr[:,0,0]- 1.03))\n",
    "idt = np.argmin(np.abs(thgr[0,:,0]-29))\n",
    "idp = np.argmin(np.abs(phgr[0,0,:]-110))\n",
    "\n",
    "c0 = np.array([[rgr[idr,0,0],thgr[0,idt,0],phgr[0,0,idp]]])\n",
    "c_minE = np.append(c0,c0, axis=0)\n",
    "\n",
    "for i in range (1, 92 - idr):\n",
    "    A = magB[idr+i,idt-1:idt+2,idp-1:idp+2]\n",
    "    pt, pp = np.unravel_index(A.argmin(), A.shape)\n",
    "    idt = idt + pt - 1; idp = idp + pp - 1 \n",
    "    c_minE = np.append(c_minE, [[rgr[idr+i,0,0],thgr[0,idt,0],phgr[0,0,idp]]], axis=0)\n",
    "    if (idr==91):\n",
    "        break"
   ]
  },
  {
   "cell_type": "markdown",
   "id": "dcdaf117-df26-40ec-9169-f9f8e3580c60",
   "metadata": {},
   "source": [
    "### Figure 6b"
   ]
  },
  {
   "cell_type": "code",
   "execution_count": null,
   "id": "5ed819c9-1fc4-47fb-8ce9-7d170b7b4a8f",
   "metadata": {},
   "outputs": [],
   "source": [
    "plt.figure(figsize=(4,2),dpi=100)\n",
    "hc = np.argmin(magB[-1], axis=1)\n",
    "plt.axis('equal')\n",
    "plt.axis([100,200,20,70])\n",
    "\n",
    "plt.xlabel('Carrington Longitude [°]')\n",
    "plt.ylabel('Latitude [°]')\n",
    "vmin = -1.5\n",
    "vmax = 1.5\n",
    "cf =plt.contourf(phgr[0],90-thgr[0],magB[-1],levels=20,cmap='RdPu_r',alpha=0.5,zorder=1)\n",
    "plt.plot(phn_fit, thn_fit,c='mediumvioletred',zorder=1)\n",
    "plt.plot(110,29,'x',c='k')\n",
    "plt.scatter(Tn.lonC,Tn.lat, c=tn304,cmap='rainbow',zorder=2)\n",
    "plt.scatter(gcc_lon,gcc_lat, c=gcs['T'],marker='D',cmap='magma',zorder=2)\n",
    "plt.plot(phgr[-1,0,hc],thgr[-1,:,0],':',c='w')\n",
    "plt.plot(c_minE.T[2],c_minE.T[1],'--',c='seagreen',zorder=3)\n",
    "plt.plot(d_tp.T[2],90-d_tp.T[1],'--',c='darkorange',zorder=3)\n",
    "\n",
    "plt.title('$|B|$ at $r=2.5 R_\\odot$' )\n",
    "\n",
    "plt.show()\n"
   ]
  },
  {
   "cell_type": "markdown",
   "id": "d925bdd0-1a5a-49b1-b71e-348d298477a8",
   "metadata": {},
   "source": [
    "### Figure 4"
   ]
  },
  {
   "cell_type": "code",
   "execution_count": null,
   "id": "04c70f9a-fb80-4c11-83ad-b54d785d1e21",
   "metadata": {},
   "outputs": [],
   "source": [
    "dm_r,dm_t,dm_p = Cart2Sph(xn_end,yn_end,zn_end)\n",
    "data2 =[ \n",
    "    go.Scatter3d( x=Tn['R'], y=Tn['lonC'], z=Tn['lat'],mode='markers',marker=dict(size=8,color=tn304,colorscale=rbow_plt,\n",
    "                                    showscale=True,colorbar_title='Time [UT]',\n",
    "                                    #colorbar_tickfont_family='Times New Roman',\n",
    "                                    colorbar_tickfont_size=20 ,\n",
    "                                    colorbar_title_side='top',\n",
    "                                    colorbar_tickmode='array'),showlegend=False),\n",
    "    go.Scatter3d( x=gcc_R[:2], y=gcc_lon[:2], z=gcc_lat[:2],mode='markers',marker=dict(size=7,symbol='diamond',\n",
    "                                    color=gcs['T'],colorscale='magma',\n",
    "                                    showscale=False),showlegend=False),\n",
    "    go.Scatter3d( x=dm_r, y=dm_p, z=dm_t, mode='lines', line=dict(color='mediumvioletred',width=4),showlegend=False),\n",
    "    go.Scatter3d( x=[1.03], y=[110], z=[29], mode='markers', marker=dict(size=5,color='black',symbol='x'),showlegend=False),\n",
    "\n",
    "\n",
    "    #    Field lines    \n",
    "    go.Scatter3d(x=lp['R'],y=lp['lonC'],z=90-lp['lat'], mode='lines', line=dict(color='blue',width=1),showlegend=False),\n",
    "    go.Scatter3d(x=lc['R'],y=lc['lonC'],z=90-lc['lat'], mode='lines', line=dict(color='grey',width=1),showlegend=False),\n",
    "    go.Scatter3d(x=d_tp[:,0],y=d_tp[:,2],z=90-d_tp[:,1], mode='lines', line=dict(color='darkorange',dash='longdashdot',width=6),showlegend=False),\n",
    "    #    Magnitude B\n",
    "    go.Volume( x=rgr[:].flatten(), y=phgr[:].flatten(), z=thgr[:].flatten(), value=np.log10(magB[:].flatten()*10**4),\n",
    "             isomin=2,isomax=5,opacity=0.6,opacityscale=\"min\",surface_count=15,colorscale='greys_r', showscale=False,showlegend=False),\n",
    "    go.Scatter3d( x=c_minE.T[0], y=c_minE.T[2], z=c_minE.T[1], mode='lines', line=dict(color='mediumseagreen',dash='longdashdot',width=5),showlegend=False),\n",
    "    \n",
    "    ]\n",
    "fig = go.Figure(data2,go.Layout(autosize=False,width=1000,height=1000))\n",
    "fig.update_layout(font=dict(family='Times New Roman',size=14))\n",
    "        \n",
    "fig.update_scenes(xaxis_visible=True, yaxis_visible=True,zaxis_visible=True,bgcolor='whitesmoke',\n",
    "                 xaxis=dict(title = 'Height', backgroundcolor='whitesmoke'),\n",
    "                 yaxis=dict(title = 'Carrington longitude', backgroundcolor='whitesmoke'),\n",
    "                 zaxis=dict(title = 'Latitude', backgroundcolor='whitesmoke'),\n",
    "                 )\n",
    "#fig.write_html(\"fieldmag.html\")\n",
    "fig.show()"
   ]
  },
  {
   "cell_type": "code",
   "execution_count": null,
   "id": "4f00205a-7e95-45c4-b557-4825638f8c57",
   "metadata": {},
   "outputs": [],
   "source": [
    "iTh = np.where((np.degrees(coordTh)<=70) & (np.degrees(coordTh)>=20))[0]\n",
    "iPh = np.where((np.degrees(coordPh)<=150) & (np.degrees(coordPh)>=90))[0]\n",
    "\n",
    "th2gr,rgr,ph2gr = np.meshgrid(coordTh[iTh], coordR, coordPh[iPh])\n",
    "thgr = 90-np.degrees(th2gr)\n",
    "phgr = np.degrees(ph2gr)\n",
    "magri = magr[:,:,iPh][:,iTh,:]\n",
    "magthi= magth[:,:,iPh][:,iTh,:]\n",
    "magphi= magph[:,:,iPh][:,iTh,:]\n",
    "B2 = magri**2+magthi**2+magphi**2\n",
    "magB = np.sqrt(B2)\n"
   ]
  },
  {
   "cell_type": "markdown",
   "id": "9f4764ee-c220-4dcc-adbc-bfd897d3065c",
   "metadata": {},
   "source": [
    "### Figure 3"
   ]
  },
  {
   "cell_type": "code",
   "execution_count": null,
   "id": "01d25476-2846-4e1b-9082-d9f74fd4b4d7",
   "metadata": {},
   "outputs": [],
   "source": [
    "data3 =[ \n",
    "    go.Scatter3d( x=Tn['R'], y=Tn['lonC'], z=Tn['lat'],mode='markers',marker=dict(size=8,color=tn304,colorscale=rbow_plt,\n",
    "                                    showscale=True,colorbar_title='Time [UT]',\n",
    "                                    colorbar_tickfont_size=20 ,\n",
    "                                    colorbar_title_side='top',\n",
    "                                    colorbar_tickmode='array'),showlegend=False),\n",
    "\n",
    "    go.Scatter3d( x=[1.03], y=[110], z=[29], mode='markers', marker=dict(size=5,color='black',symbol='x'),showlegend=False),\n",
    "\n",
    "\n",
    "    #    Field lines    \n",
    "    #go.Scatter3d(x=lp['R'],y=lp['lonC'],z=90-lp['lat'], mode='lines', line=dict(color='blue',width=1),showlegend=False),\n",
    "    go.Scatter3d(x=lc['R'],y=lc['lonC'],z=90-lc['lat'], mode='lines', line=dict(color='grey',width=1),showlegend=False),\n",
    "\n",
    "    #    Magnitude B\n",
    "    go.Volume( x=rgr[:35].flatten(), y=phgr[:35].flatten(), z=thgr[:35].flatten(), value=np.log10(magB[:].flatten()*10**4),\n",
    "             isomin=2.5,isomax=4,opacity=0.6,opacityscale=\"min\",surface_count=15,colorscale='RdPu_r', showscale=False,showlegend=False),\n",
    "    \n",
    "    ]\n",
    "fig = go.Figure(data3,go.Layout(autosize=False,width=1000,height=1000))\n",
    "fig.update_layout(font=dict(family='Times New Roman',size=14))\n",
    "        \n",
    "fig.update_scenes(xaxis_visible=True, yaxis_visible=True,zaxis_visible=True,bgcolor='whitesmoke',\n",
    "                 xaxis=dict(title = 'Height', backgroundcolor='whitesmoke'),\n",
    "                 yaxis=dict(title = 'Carrington longitude', backgroundcolor='whitesmoke'),\n",
    "                 zaxis=dict(title = 'Latitude', backgroundcolor='whitesmoke'),\n",
    "                 )\n",
    "#fig.write_html(\"fieldmag.html\")\n",
    "fig.show()"
   ]
  },
  {
   "cell_type": "markdown",
   "id": "88af69b3-1804-4174-abbf-ab6b5452d045",
   "metadata": {},
   "source": [
    "### Figure 5"
   ]
  },
  {
   "cell_type": "code",
   "execution_count": null,
   "id": "e5786f8f-173f-4c01-be8e-081bbcd8b2c4",
   "metadata": {},
   "outputs": [],
   "source": [
    "\n",
    "fig, axs = plt.subplots(1, 2,figsize=(8.2,2.6),dpi=150)\n",
    "\n",
    "axs[0].set_ylabel('Latitude [$^\\circ$]')\n",
    "axs[0].set_xlabel('Height [$R_\\odot$]')\n",
    "axs[0].set_xlim(1,2.55)\n",
    "\n",
    "axs[0].scatter(Tn.R,Tn.lat,c=tn304,cmap='rainbow',zorder=2)\n",
    "axs[0].plot(rn_fit,thn_fit,c='mediumvioletred',zorder=1)\n",
    "axs[0].plot(d_tp[:,0],90- d_tp[:,1],'--',c='darkorange',zorder=1)\n",
    "axs[0].plot(c_minE[:,0],c_minE[:,1],'--',c='mediumseagreen',zorder=1)\n",
    "axs[0].plot(1.03,29,'x',c='black')\n",
    "axs[0].scatter(gcc_R[:2],gcc_lat[:2], c=gcs['T'][:2],vmax=gcs['T'][6],marker='D',cmap='magma')\n",
    "\n",
    "\n",
    "\n",
    "axs[1].set_ylabel('Carrington longitude [$^\\circ$]')\n",
    "axs[1].set_xlabel('Height [$R_\\odot$]')\n",
    "axs[1].set_xlim(1,2.55)\n",
    "im=axs[1].scatter( Tn.R,Tn.lonC,c=tn304,cmap='rainbow',zorder=2)\n",
    "axs[1].scatter(gcc_R[:2],gcc_lon[:2], c=gcs['T'][:2],vmax=gcs['T'][6],marker='D',cmap='magma')\n",
    "axs[1].plot(rn_fit,phn_fit,c='mediumvioletred',zorder=1)\n",
    "axs[1].plot(d_tp[:,0],d_tp[:,2],'--',c='darkorange',zorder=1)\n",
    "axs[1].plot(1.03,110,'x',c='black')\n",
    "axs[1].plot(c_minE[:,0],c_minE[:,2],'--',c='mediumseagreen',zorder=1)\n",
    " \n",
    "fig.tight_layout()\n",
    "# rendering colorbar\n",
    "plt.colorbar(im, ax=axs.ravel().tolist(),orientation='vertical',label='Time [UT]')#)#plt.gca().get_children()[0], ax=axs.ravel().tolist())\n",
    "plt.show()"
   ]
  },
  {
   "cell_type": "markdown",
   "id": "10bbe439-8809-478c-9b1a-93c0813c63c4",
   "metadata": {},
   "source": [
    "Radial trajectory from source region"
   ]
  },
  {
   "cell_type": "code",
   "execution_count": null,
   "id": "3fd7c962-a328-467a-bc65-1a66d3efc5d6",
   "metadata": {},
   "outputs": [],
   "source": [
    "xR = xe[0]*np.linspace(1,2.5,len(tn304))\n",
    "yR = ye[0]*np.linspace(1,2.5,len(tn304))\n",
    "zR = ze[0]*np.linspace(1,2.5,len(tn304))"
   ]
  },
  {
   "cell_type": "markdown",
   "id": "18661ee8-9479-445a-8b56-b10c252d9d61",
   "metadata": {},
   "source": [
    "Distance to eruptive path in cartesian coordinates"
   ]
  },
  {
   "cell_type": "code",
   "execution_count": null,
   "id": "9de4fa43-ae8d-41a1-a9c4-965cb57dec45",
   "metadata": {},
   "outputs": [],
   "source": [
    "mE_c = Sph2Cart(c_minE[:,0],90-c_minE[:,1],c_minE[:,2])\n",
    "tp_c = Sph2Cart(d_tp[:,0],d_tp[:,1],d_tp[:,2])\n",
    "d_t = np.ones(len(xn_end[1:]))\n",
    "d_g = np.ones(len(xn_end[1:]))\n",
    "d_r = np.ones(len(xn_end[1:]))\n",
    "\n",
    "for i in range(0, len(xn_end[1:])):\n",
    "    dis_t = (xn_end[1+i]-tp_c[0])**2+(yn_end[1+i]-tp_c[1])**2+(zn_end[1+i]-tp_c[2])**2\n",
    "    d_t[i] = np.sqrt(np.min(dis_t))\n",
    "    dis_g = (xn_end[1+i]-mE_c[0])**2+(yn_end[1+i]-mE_c[1])**2+(zn_end[1+i]-mE_c[2])**2\n",
    "    d_g[i] = np.sqrt(np.min(dis_g))\n",
    "    dis_r = (xn_end[1+i]-xR)**2+(yn_end[1+i]-yR)**2+(zn_end[1+i]-zR)**2\n",
    "    d_r[i] = np.sqrt(np.min(dis_r))"
   ]
  },
  {
   "cell_type": "markdown",
   "id": "34bda89d-da07-4f66-946e-fe88e0647526",
   "metadata": {},
   "source": [
    "### Figure 6a"
   ]
  },
  {
   "cell_type": "code",
   "execution_count": null,
   "id": "fa72ea66-9985-487d-8181-46034e101aec",
   "metadata": {},
   "outputs": [],
   "source": [
    "plt.rc('font', size=12) \n",
    "plt.figure(figsize=(3.5,2))\n",
    "plt.plot(rn_fit[ss[10:]],np.degrees(d_r[9:]/rn_fit[ss[10:]]),'-',c='purple',lw=1, label='Radial path')\n",
    "plt.plot(rn_fit[ss[10:]],np.degrees(d_g[9:]/rn_fit[ss[10:]]),'--',c='mediumseagreen',lw=2, label='Gradient path')\n",
    "plt.plot(rn_fit[ss[10:]],np.degrees(d_t[9:]/rn_fit[ss[10:]]),'--',c='darkorange',lw=2, label='Topological path')\n",
    "\n",
    "\n",
    "plt.hlines(0,rn_fit[ss[10]],rn_fit[ss[-1]],color='grey',ls=':',lw=2)\n",
    "plt.legend()\n",
    "plt.xlabel('Height [$R_\\odot$]')\n",
    "plt.ylabel('Distance [$^\\circ$]')"
   ]
  }
 ],
 "metadata": {
  "kernelspec": {
   "display_name": "Python 3 (ipykernel)",
   "language": "python",
   "name": "python3"
  },
  "language_info": {
   "codemirror_mode": {
    "name": "ipython",
    "version": 3
   },
   "file_extension": ".py",
   "mimetype": "text/x-python",
   "name": "python",
   "nbconvert_exporter": "python",
   "pygments_lexer": "ipython3",
   "version": "3.11.8"
  }
 },
 "nbformat": 4,
 "nbformat_minor": 5
}
